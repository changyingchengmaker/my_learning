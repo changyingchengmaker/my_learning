{
 "cells": [
  {
   "cell_type": "code",
   "execution_count": 5,
   "id": "0e1f9c1f",
   "metadata": {},
   "outputs": [
    {
     "name": "stdout",
     "output_type": "stream",
     "text": [
      "hello chang!\n"
     ]
    }
   ],
   "source": [
    "a = \"chang\"\n",
    "def Hello(name):\n",
    "    print(f\"hello {name}!\")\n",
    "Hello(a)\n",
    "    "
   ]
  },
  {
   "cell_type": "markdown",
   "id": "de261d71",
   "metadata": {},
   "source": [
    "# This is my notebook"
   ]
  },
  {
   "cell_type": "code",
   "execution_count": 10,
   "id": "6d691d95",
   "metadata": {},
   "outputs": [
    {
     "name": "stdout",
     "output_type": "stream",
     "text": [
      "6\n"
     ]
    }
   ],
   "source": [
    "import numpy as np\n",
    "a = np.array(6)\n",
    "print(a)\n"
   ]
  },
  {
   "cell_type": "code",
   "execution_count": 11,
   "id": "f43bb07d",
   "metadata": {},
   "outputs": [
    {
     "name": "stdout",
     "output_type": "stream",
     "text": [
      "hello,world\n"
     ]
    }
   ],
   "source": [
    "print(\"hello,world\")"
   ]
  },
  {
   "cell_type": "markdown",
   "id": "afd554dc",
   "metadata": {},
   "source": [
    "# 狗的定义（类）\n",
    "\n",
    "\n"
   ]
  },
  {
   "cell_type": "code",
   "execution_count": 1,
   "id": "b923ec7f",
   "metadata": {},
   "outputs": [],
   "source": [
    "class Dog:\n",
    "    def __init__(self, name,year):\n",
    "        self.name = name\n",
    "        self.year = year\n",
    "    def bark(self):\n",
    "        print(f\"{self.name} says woof!,and he is {self.year} years old\")\n",
    "    "
   ]
  },
  {
   "cell_type": "code",
   "execution_count": 2,
   "id": "2d49b647",
   "metadata": {},
   "outputs": [
    {
     "name": "stdout",
     "output_type": "stream",
     "text": [
      "huipeishan says woof!,and he is 20 years old\n"
     ]
    }
   ],
   "source": [
    "huipeishan = Dog(\"huipeishan\",20)\n",
    "huipeishan.bark()"
   ]
  },
  {
   "cell_type": "code",
   "execution_count": 3,
   "id": "12d286ba",
   "metadata": {},
   "outputs": [],
   "source": [
    "class Student:\n",
    "    def __init__(self, name,year,socre,):\n",
    "        self.name = name\n",
    "        self.year = year\n",
    "        self.socre = socre\n",
    "    def get_information(self):\n",
    "        print(f\"{self.name} is {self.year} years old and his socre is {self.socre}\")\n"
   ]
  },
  {
   "cell_type": "markdown",
   "id": "8a0ba8f2",
   "metadata": {},
   "source": [
    "# 这是一个定义学生的**类**\n",
    "\n",
    "dsafsg"
   ]
  },
  {
   "cell_type": "code",
   "execution_count": 4,
   "id": "6b37a891",
   "metadata": {},
   "outputs": [
    {
     "name": "stdout",
     "output_type": "stream",
     "text": [
      "chang is 20 years old and his socre is 100\n",
      "zhang is 21 years old and his socre is 99\n"
     ]
    }
   ],
   "source": [
    "student1 = Student(\"chang\", 20, 100)\n",
    "student2 = Student(\"zhang\", 21, 99)\n",
    "student1.get_information()\n",
    "student2.get_information()"
   ]
  }
 ],
 "metadata": {
  "kernelspec": {
   "display_name": "Python 3",
   "language": "python",
   "name": "python3"
  },
  "language_info": {
   "codemirror_mode": {
    "name": "ipython",
    "version": 3
   },
   "file_extension": ".py",
   "mimetype": "text/x-python",
   "name": "python",
   "nbconvert_exporter": "python",
   "pygments_lexer": "ipython3",
   "version": "3.12.10"
  }
 },
 "nbformat": 4,
 "nbformat_minor": 5
}
